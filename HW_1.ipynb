{
  "nbformat": 4,
  "nbformat_minor": 0,
  "metadata": {
    "colab": {
      "provenance": [],
      "collapsed_sections": [],
      "include_colab_link": true
    },
    "kernelspec": {
      "name": "python3",
      "display_name": "Python 3"
    },
    "language_info": {
      "name": "python"
    }
  },
  "cells": [
    {
      "cell_type": "markdown",
      "metadata": {
        "id": "view-in-github",
        "colab_type": "text"
      },
      "source": [
        "<a href=\"https://colab.research.google.com/github/Nenneke2999/sf_data_science/blob/main/HW_1.ipynb\" target=\"_parent\"><img src=\"https://colab.research.google.com/assets/colab-badge.svg\" alt=\"Open In Colab\"/></a>"
      ]
    },
    {
      "cell_type": "code",
      "execution_count": null,
      "metadata": {
        "colab": {
          "base_uri": "https://localhost:8080/"
        },
        "id": "_aYjJdIiCXqZ",
        "outputId": "f3a8c90e-01e6-4c43-dcb1-57de3c9f990b"
      },
      "outputs": [
        {
          "output_type": "stream",
          "name": "stdout",
          "text": [
            "Python 3.7.13\n"
          ]
        }
      ],
      "source": [
        "!python3 -V"
      ]
    },
    {
      "cell_type": "markdown",
      "source": [
        "****\n",
        "**Задание 1.**\n",
        "\n",
        "Студент магистратуры обычно спит ночью XX часов и устраивает себе днем тихий час на YY минут. Определите, сколько всего студент спит в сутки (если вообще спит). Программа должна принимать значения XX и YY из стандартного потока ввода (функция input), результат надо выводить в стандартный поток вывода (функция print).\n",
        "\n",
        "\n",
        "```\n",
        "Sample Input 1:\n",
        "7\n",
        "30\n",
        "Sample Output 1:\n",
        "450\n",
        "\n",
        "Sample Input 2:\n",
        "0\n",
        "42\n",
        "Sample Output 2:\n",
        "42\n",
        "```\n"
      ],
      "metadata": {
        "id": "7a_LLXLjCeMS"
      }
    },
    {
      "cell_type": "code",
      "source": [
        "#Решение задания 1\n",
        "def sleep_count():\n",
        "    night_sleep = input('How many hours did you sleep at night?')\n",
        "    daytime_sleep = input('How many minutes do you sleep during the day?')\n",
        "    sleep = int(night_sleep) * 60 + int(daytime_sleep)\n",
        "    print(f'During the day you sleep {sleep} minutes.')\n",
        "    return"
      ],
      "metadata": {
        "id": "gWyFoGkrDGhi"
      },
      "execution_count": 11,
      "outputs": []
    },
    {
      "cell_type": "code",
      "source": [
        "#Пример 1\n",
        "sleep_count()"
      ],
      "metadata": {
        "colab": {
          "base_uri": "https://localhost:8080/"
        },
        "id": "SXM8JdR__d2m",
        "outputId": "a9bb21ef-0443-4188-fa0e-1cb6823299cd"
      },
      "execution_count": 12,
      "outputs": [
        {
          "output_type": "stream",
          "name": "stdout",
          "text": [
            "How many hours did you sleep at night?6\n",
            "How many minutes do you sleep during the day?60\n",
            "During the day you sleep 420 minutes.\n"
          ]
        }
      ]
    },
    {
      "cell_type": "code",
      "source": [
        "#Пример 2\n",
        "sleep_count()"
      ],
      "metadata": {
        "colab": {
          "base_uri": "https://localhost:8080/"
        },
        "id": "v0UesI_TCQs3",
        "outputId": "637de0c8-139c-41e1-9c11-58034244bff6"
      },
      "execution_count": 13,
      "outputs": [
        {
          "output_type": "stream",
          "name": "stdout",
          "text": [
            "How many hours did you sleep at night?7\n",
            "How many minutes do you sleep during the day?0\n",
            "During the day you sleep 420 minutes.\n"
          ]
        }
      ]
    },
    {
      "cell_type": "markdown",
      "source": [
        "****\n",
        "**Задание 2**\n",
        "\n",
        "Студент МФТИ каждый день ложится спать ровно в полночь и недавно узнал, что оптимальное время для его сна составляет XX минут. Он хочет поставить себе будильник так, чтобы он прозвенел ровно через XX минут после полуночи, однако для этого необходимо указать время сигнала в формате часы, минуты. Помогите студенту определить, на какое время завести будильник.\n",
        "Часы и минуты в выводе программы должны располагаться на разных строках\n",
        "\n",
        "```\n",
        "Sample Input 1:\n",
        "480\n",
        "Sample Output 1:\n",
        "8\n",
        "0\n",
        "\n",
        "Sample Input 2:\n",
        "512\n",
        "Sample Output 2:\n",
        "8\n",
        "32\n",
        "```\n"
      ],
      "metadata": {
        "id": "v_npn-j3C8jg"
      }
    },
    {
      "cell_type": "code",
      "source": [
        "#Решение задания 2\n",
        "def alarm():\n",
        "    minutes = input('After how many minutes should the alarm go off?')\n",
        "    alarm_hour = int(minutes) // 60\n",
        "    alarm_minutes = int(minutes) % 60\n",
        "    print(f'The alarm will go off at: \\n{alarm_hour} hours \\n{alarm_minutes} minutes')\n",
        "    return"
      ],
      "metadata": {
        "id": "6jRyzamrCall"
      },
      "execution_count": 21,
      "outputs": []
    },
    {
      "cell_type": "code",
      "source": [
        "#Пример 1\n",
        "alarm()"
      ],
      "metadata": {
        "colab": {
          "base_uri": "https://localhost:8080/"
        },
        "id": "l8MgO9x6EYVM",
        "outputId": "92650a04-1538-4d2a-af20-cf166f24628f"
      },
      "execution_count": 22,
      "outputs": [
        {
          "output_type": "stream",
          "name": "stdout",
          "text": [
            "After how many minutes should the alarm go off?460\n",
            "The alarm will go off at: \n",
            "7 hours \n",
            "40 minutes\n"
          ]
        }
      ]
    },
    {
      "cell_type": "code",
      "source": [
        "#Пример 2\n",
        "alarm()"
      ],
      "metadata": {
        "colab": {
          "base_uri": "https://localhost:8080/"
        },
        "id": "8DI5O96_Evnh",
        "outputId": "206b1ac2-5048-4421-ce7a-729cf67f92c9"
      },
      "execution_count": 23,
      "outputs": [
        {
          "output_type": "stream",
          "name": "stdout",
          "text": [
            "After how many minutes should the alarm go off?745\n",
            "The alarm will go off at: \n",
            "12 hours \n",
            "25 minutes\n"
          ]
        }
      ]
    },
    {
      "cell_type": "markdown",
      "source": [
        "****\n",
        "**Задание 3**\n",
        "\n",
        "Студент программы “Анализ данных в медицине” узнал, что ему для сна надо XX минут. В отличие от студента МФТИ, наш студент ложится спать после полуночи в HH часов и MM минут. Помогите определить, на какое время ему поставить будильник, чтобы он прозвенел ровно через XX минут после того, как он ляжет спать.\n",
        "На стандартный ввод, каждое в своей строке, подаются значения XX, HH и MM. Гарантируется, что студент программы “Fнализ данных в медицине” должен проснуться в тот же день, что и заснуть. Программа должна выводить время, на которое нужно поставить будильник: в первой строке часы, во второй — минуты.\n",
        "\n",
        "```\n",
        "Sample Input 1:\n",
        "480\n",
        "1\n",
        "2\n",
        "Sample Output 1:\n",
        "9\n",
        "2\n",
        "Sample Input 2:\n",
        "475\n",
        "1\n",
        "55\n",
        "Sample Output 2:\n",
        "9\n",
        "50\n",
        "\n",
        "```"
      ],
      "metadata": {
        "id": "Vxj4YJbkDMu7"
      }
    },
    {
      "cell_type": "code",
      "source": [
        "#Решение задания 3\n",
        "def alarm2():\n",
        "    minutes = input('After how many minutes should the alarm go off?')\n",
        "    time_hour = input('What time do you go to bed(hours)?')\n",
        "    time_minute = input('What time do you go to bed(minute)?')\n",
        "    alarm_hour = int(minutes) // 60 + int(time_hour)\n",
        "    alarm_minutes = int(minutes) % 60 + int(time_minute)\n",
        "    if alarm_minutes > 60:\n",
        "        alarm_hour += 1\n",
        "        alarm_minutes -= 60\n",
        "    print(f'The alarm will go off at: \\n{alarm_hour} hours \\n{alarm_minutes} minutes')\n",
        "    return"
      ],
      "metadata": {
        "id": "gjcewJX3DesJ"
      },
      "execution_count": 27,
      "outputs": []
    },
    {
      "cell_type": "code",
      "source": [
        "#Пример 1\n",
        "alarm2()"
      ],
      "metadata": {
        "colab": {
          "base_uri": "https://localhost:8080/"
        },
        "id": "OYyfn5_xG3qL",
        "outputId": "4829043f-b33a-4552-dee8-0e6069e05a03"
      },
      "execution_count": 30,
      "outputs": [
        {
          "output_type": "stream",
          "name": "stdout",
          "text": [
            "After how many minutes should the alarm go off?460\n",
            "What time do you go to bed(hours)?1\n",
            "What time do you go to bed(minute)?40\n",
            "The alarm will go off at: \n",
            "9 hours \n",
            "20 minutes\n"
          ]
        }
      ]
    },
    {
      "cell_type": "code",
      "source": [
        "#Пример 2\n",
        "alarm2()"
      ],
      "metadata": {
        "colab": {
          "base_uri": "https://localhost:8080/"
        },
        "id": "B6S8q1lnG3mw",
        "outputId": "6f320be5-f222-448f-9464-82781044c956"
      },
      "execution_count": 31,
      "outputs": [
        {
          "output_type": "stream",
          "name": "stdout",
          "text": [
            "After how many minutes should the alarm go off?745\n",
            "What time do you go to bed(hours)?0\n",
            "What time do you go to bed(minute)?25\n",
            "The alarm will go off at: \n",
            "12 hours \n",
            "50 minutes\n"
          ]
        }
      ]
    },
    {
      "cell_type": "markdown",
      "source": [
        "****\n",
        "**Задание 4**\n",
        "\n",
        "Напишите программу, на вход которой подается список чисел одной строкой. Программа должна для каждого элемента этого списка вывести сумму двух его соседей. Для элементов списка, являющихся крайними, одним из соседей считается элемент, находящийся на противоположном конце этого списка. Например, если на вход подаётся список \"1 3 5 6 10\", то на выход ожидается список \"13 6 9 15 7\" (без кавычек).\n",
        "\n",
        "Если на вход пришло только одно число, надо вывести его же.\n",
        "Вывод должен содержать одну строку с числами нового списка, разделенными пробелом.\n",
        "\n",
        "\n",
        "```\n",
        "Sample Input 1:\n",
        "1 3 5 6 10\n",
        "Sample Output 1:\n",
        "13 6 9 15 7\n",
        "Sample Input 2:\n",
        "10\n",
        "Sample Output 2:\n",
        "10\n",
        "```\n"
      ],
      "metadata": {
        "id": "7g7d57UYDgj5"
      }
    },
    {
      "cell_type": "code",
      "source": [
        "#Решение задания 4\n",
        "def new_list():\n",
        "    str_list = input('Enter numbers')\n",
        "    number_list = str_list.split(' ')\n",
        "    N = len(number_list)\n",
        "    new_str = ''\n",
        "    for i in range(N):\n",
        "        if N == 1: #Если на вход подается 1 число\n",
        "            new_str = str_list\n",
        "            break\n",
        "        if i == 0: #Если элемент списка крайний(первый)\n",
        "            new_number = int(number_list[N-1]) + int(number_list[i+1])\n",
        "            new_str = new_str + str(new_number) + ' '\n",
        "            continue\n",
        "        if i == N-1: #Если элемент списка крайний(последний)\n",
        "            new_number = int(number_list[i-1]) + int(number_list[0])\n",
        "            new_str = new_str + str(new_number) + ' '\n",
        "            continue\n",
        "        new_number = int(number_list[i-1]) + int(number_list[i+1]) \n",
        "        new_str = new_str + str(new_number) + ' '\n",
        "    return new_str"
      ],
      "metadata": {
        "id": "lZuiLojnDpDI"
      },
      "execution_count": 65,
      "outputs": []
    },
    {
      "cell_type": "code",
      "source": [
        "#Пример 1\n",
        "new_list()"
      ],
      "metadata": {
        "colab": {
          "base_uri": "https://localhost:8080/",
          "height": 53
        },
        "id": "G4mbMFQHM-3z",
        "outputId": "7adfcaaa-5e28-47dc-8683-597d7aecf4ed"
      },
      "execution_count": 68,
      "outputs": [
        {
          "name": "stdout",
          "output_type": "stream",
          "text": [
            "Enter numbers5 6 3 9 2\n"
          ]
        },
        {
          "output_type": "execute_result",
          "data": {
            "text/plain": [
              "'8 8 15 5 14 '"
            ],
            "application/vnd.google.colaboratory.intrinsic+json": {
              "type": "string"
            }
          },
          "metadata": {},
          "execution_count": 68
        }
      ]
    },
    {
      "cell_type": "code",
      "source": [
        "#Пример 2\n",
        "new_list()"
      ],
      "metadata": {
        "colab": {
          "base_uri": "https://localhost:8080/",
          "height": 53
        },
        "id": "2yw8eWJGOBlK",
        "outputId": "7acd91f0-72ef-4162-acea-f80899e8adac"
      },
      "execution_count": 70,
      "outputs": [
        {
          "name": "stdout",
          "output_type": "stream",
          "text": [
            "Enter numbers2\n"
          ]
        },
        {
          "output_type": "execute_result",
          "data": {
            "text/plain": [
              "'2'"
            ],
            "application/vnd.google.colaboratory.intrinsic+json": {
              "type": "string"
            }
          },
          "metadata": {},
          "execution_count": 70
        }
      ]
    },
    {
      "cell_type": "markdown",
      "source": [
        "****\n",
        "**Задание 5**\n",
        "\n",
        "Напишите программу, которая принимает на вход список чисел в одной строке и выводит на экран в одну строку значения, которые встречаются в нём более одного раза.\n",
        "\n",
        "Для решения задачи может пригодиться метод sort списка (а может и не пригодиться).\n",
        "\n",
        "Выводимые числа не должны повторяться, порядок их вывода может быть произвольным. Разделитель чисел - пробел\n"
      ],
      "metadata": {
        "id": "C9DdzDwdDvlG"
      }
    },
    {
      "cell_type": "code",
      "source": [
        "#Решение задания 5\n",
        "def double():\n",
        "    input_str = input('Enter numbers')\n",
        "    number_list = input_str.split(' ')\n",
        "    double_list = ''\n",
        "    for number in number_list:\n",
        "        if number in double_list: #Пропускаем уже рассмотренные числа\n",
        "            continue\n",
        "        if number_list.count(number) > 1:\n",
        "            double_list = double_list + number + ' '\n",
        "    return double_list"
      ],
      "metadata": {
        "id": "7DJQuzktD8xZ"
      },
      "execution_count": 80,
      "outputs": []
    },
    {
      "cell_type": "code",
      "source": [
        "#Пример 1\n",
        "double()"
      ],
      "metadata": {
        "colab": {
          "base_uri": "https://localhost:8080/",
          "height": 53
        },
        "id": "wlPeymwDXC_U",
        "outputId": "16772397-b6bb-47e6-8ace-1823ec29f540"
      },
      "execution_count": 81,
      "outputs": [
        {
          "name": "stdout",
          "output_type": "stream",
          "text": [
            "Enter numbers1 8 8 5 3 1\n"
          ]
        },
        {
          "output_type": "execute_result",
          "data": {
            "text/plain": [
              "'1 8 '"
            ],
            "application/vnd.google.colaboratory.intrinsic+json": {
              "type": "string"
            }
          },
          "metadata": {},
          "execution_count": 81
        }
      ]
    },
    {
      "cell_type": "code",
      "source": [
        "#Пример 2\n",
        "double()"
      ],
      "metadata": {
        "colab": {
          "base_uri": "https://localhost:8080/",
          "height": 53
        },
        "id": "yrJ4guusYgQW",
        "outputId": "f45b576c-4c99-4d5c-91dc-1019ed030683"
      },
      "execution_count": 82,
      "outputs": [
        {
          "name": "stdout",
          "output_type": "stream",
          "text": [
            "Enter numbers5 3 3 3 4 5 2\n"
          ]
        },
        {
          "output_type": "execute_result",
          "data": {
            "text/plain": [
              "'5 3 '"
            ],
            "application/vnd.google.colaboratory.intrinsic+json": {
              "type": "string"
            }
          },
          "metadata": {},
          "execution_count": 82
        }
      ]
    },
    {
      "cell_type": "markdown",
      "source": [
        "****\n",
        "**Задание 6**\n",
        "\n",
        "GC-состав является важной характеристикой геномных последовательностей и определяется как процентное соотношение суммы всех гуанинов и цитозинов к общему числу нуклеиновых оснований в геномной последовательности.\n",
        "\n",
        "Напишите программу, которая вычисляет процентное содержание символов G (гуанин) и C (цитозин) в введенной строке (программа не должна зависеть от регистра вводимых символов).\n",
        "Например, в строке \"acggtgttat\" процентное содержание символов G и C равно 4*0.1 * 100 = 40.0, где 4 - это количество символов G и C, а 10 - это длина строки.\n",
        "\n",
        "```\n",
        "Sample Input:\n",
        "acggtgttat\n",
        "Sample Output:\n",
        "40.0\n",
        "```\n"
      ],
      "metadata": {
        "id": "g1S48qv6EHjC"
      }
    },
    {
      "cell_type": "code",
      "source": [
        "#Решение задания 6\n",
        "def percent():\n",
        "    sequence = input('Enter the genomic sequence')\n",
        "    sequence_up = sequence.upper()\n",
        "    count = 0\n",
        "    for element in sequence_up:\n",
        "        if element == 'G' or element == 'C':\n",
        "          count += 1\n",
        "    pct = count / len(sequence) * 100\n",
        "    return round(pct, 2)"
      ],
      "metadata": {
        "id": "UmyyLKDlEMAb"
      },
      "execution_count": 88,
      "outputs": []
    },
    {
      "cell_type": "code",
      "source": [
        "#Пример 1\n",
        "percent()"
      ],
      "metadata": {
        "colab": {
          "base_uri": "https://localhost:8080/"
        },
        "id": "mF0g1AFDctHi",
        "outputId": "89e1810a-ad45-493a-bb79-9f8b454b0fd3"
      },
      "execution_count": 86,
      "outputs": [
        {
          "name": "stdout",
          "output_type": "stream",
          "text": [
            "Enter the genomic sequenceacggtgttat\n"
          ]
        },
        {
          "output_type": "execute_result",
          "data": {
            "text/plain": [
              "40.0"
            ]
          },
          "metadata": {},
          "execution_count": 86
        }
      ]
    },
    {
      "cell_type": "code",
      "source": [
        "#Пример 2\n",
        "percent()"
      ],
      "metadata": {
        "colab": {
          "base_uri": "https://localhost:8080/"
        },
        "id": "IOQKMK1EdH2C",
        "outputId": "8355c61f-b1c5-4479-87c8-9302c362ae70"
      },
      "execution_count": 89,
      "outputs": [
        {
          "name": "stdout",
          "output_type": "stream",
          "text": [
            "Enter the genomic sequencesequenceaGCtgttaaCt\n"
          ]
        },
        {
          "output_type": "execute_result",
          "data": {
            "text/plain": [
              "26.32"
            ]
          },
          "metadata": {},
          "execution_count": 89
        }
      ]
    },
    {
      "cell_type": "markdown",
      "source": [
        "****\n",
        "**Задание 7**\n",
        "\n",
        "Узнав, что ДНК не является случайной строкой, только что поступившие в МФТИ студенты группы аналитиков данных предложили использовать алгоритм сжатия, который сжимает повторяющиеся символы в строке.\n",
        "Кодирование осуществляется следующим образом:\n",
        "s = 'aaaabbсaa' преобразуется в 'a4b2с1a2', то есть группы одинаковых символов исходной строки заменяются на этот символ и количество его повторений в этой позиции строки.\n",
        "\n",
        "Напишите программу, которая считывает строку, кодирует её предложенным алгоритмом и выводит закодированную последовательность на стандартный вывод. Кодирование должно учитывать регистр символов.\n",
        "\n",
        "\n",
        "```\n",
        "Sample Input 1:\n",
        "aaaabbcaa\n",
        "Sample Output 1:\n",
        "a4b2c1a2\n",
        "Sample Input 2:\n",
        "abc\n",
        "Sample Output 2:\n",
        "a1b1c1\n",
        "Sample Input 3:\n",
        "AaAaBBBbbbCCc\n",
        "Sample Output 3:\n",
        "A1a1A1a1B3b3C2c1\n",
        "```\n"
      ],
      "metadata": {
        "id": "Hm7d16upETUx"
      }
    },
    {
      "cell_type": "code",
      "source": [
        "#Решение задания 7\n",
        "def code_function():\n",
        "    sequence = input('Enter the sequence ')\n",
        "    N = len(sequence)\n",
        "    sequence += ' ' #Чтобы цикл не вышел за границы диапазона\n",
        "    sequence_code = ''\n",
        "    count = 1\n",
        "    for i in range(N):\n",
        "        if sequence[i] == sequence[i+1]:\n",
        "            count += 1\n",
        "        else:\n",
        "            sequence_code = sequence_code + sequence[i] + str(count)\n",
        "            count = 1\n",
        "    return sequence_code  "
      ],
      "metadata": {
        "id": "Gu7FS9kAEe2Q"
      },
      "execution_count": 111,
      "outputs": []
    },
    {
      "cell_type": "code",
      "source": [
        "#Пример 1\n",
        "code_function()"
      ],
      "metadata": {
        "colab": {
          "base_uri": "https://localhost:8080/",
          "height": 53
        },
        "id": "Dv2fLV6ahSOr",
        "outputId": "bcd46f39-33da-41fb-8188-be395a3a15ce"
      },
      "execution_count": 112,
      "outputs": [
        {
          "name": "stdout",
          "output_type": "stream",
          "text": [
            "Enter the sequence AaAaBBBbbbCCc\n"
          ]
        },
        {
          "output_type": "execute_result",
          "data": {
            "text/plain": [
              "'A1a1A1a1B3b3C2c1'"
            ],
            "application/vnd.google.colaboratory.intrinsic+json": {
              "type": "string"
            }
          },
          "metadata": {},
          "execution_count": 112
        }
      ]
    },
    {
      "cell_type": "code",
      "source": [
        "#Пример 2\n",
        "code_function()"
      ],
      "metadata": {
        "colab": {
          "base_uri": "https://localhost:8080/",
          "height": 53
        },
        "id": "Fs-uwH66kaFD",
        "outputId": "2aecf7f3-1503-433a-e883-ff4fb2103a82"
      },
      "execution_count": 113,
      "outputs": [
        {
          "name": "stdout",
          "output_type": "stream",
          "text": [
            "Enter the sequence AAbbCbBccaAc\n"
          ]
        },
        {
          "output_type": "execute_result",
          "data": {
            "text/plain": [
              "'A2b2C1b1B1c2a1A1c1'"
            ],
            "application/vnd.google.colaboratory.intrinsic+json": {
              "type": "string"
            }
          },
          "metadata": {},
          "execution_count": 113
        }
      ]
    },
    {
      "cell_type": "markdown",
      "source": [
        "****\n",
        "**Задание 8**\n",
        "\n",
        "Напишите программу, которая считывает с консоли числа (по одному в строке) до тех пор, пока сумма введённых чисел не будет равна 0 и сразу после этого выводит сумму квадратов всех считанных чисел.\n",
        "Гарантируется, что в какой-то момент сумма введённых чисел окажется равной 0, после этого считывание продолжать не нужно.\n",
        "В примере мы считываем числа 1, -3, 5, -6, -10, 13; в этот момент замечаем, что сумма этих чисел равна нулю и выводим сумму их квадратов, не обращая внимания на то, что остались ещё не прочитанные значения.\n",
        "\n",
        "\n",
        "```\n",
        "Sample Input:\n",
        "1\n",
        "-3\n",
        "5\n",
        "-6\n",
        "-10\n",
        "13\n",
        "4\n",
        "-8\n",
        "Sample Output:\n",
        "340\n",
        "```"
      ],
      "metadata": {
        "id": "Ky16NUTNEpr-"
      }
    },
    {
      "cell_type": "code",
      "source": [
        "#Решение задания 8\n",
        "def math_function():\n",
        "    sum = int(input('Enter the number '))\n",
        "    square = sum ** 2\n",
        "    while sum != 0:\n",
        "        number = input()\n",
        "        sum += int(number)\n",
        "        square += int(number) ** 2\n",
        "    return square"
      ],
      "metadata": {
        "id": "gSs8AHixFMwU"
      },
      "execution_count": 124,
      "outputs": []
    },
    {
      "cell_type": "code",
      "source": [
        "#Пример 1\n",
        "math_function()"
      ],
      "metadata": {
        "colab": {
          "base_uri": "https://localhost:8080/"
        },
        "id": "CuhZ5Zx3mpP-",
        "outputId": "141ba1d3-5c27-4822-de4d-f0a48b8c22b6"
      },
      "execution_count": 125,
      "outputs": [
        {
          "name": "stdout",
          "output_type": "stream",
          "text": [
            "Enter the number 5\n",
            "8\n",
            "-2\n",
            "-4\n",
            "-6\n",
            "-1\n"
          ]
        },
        {
          "output_type": "execute_result",
          "data": {
            "text/plain": [
              "146"
            ]
          },
          "metadata": {},
          "execution_count": 125
        }
      ]
    },
    {
      "cell_type": "code",
      "source": [
        "#Пример 2\n",
        "math_function()"
      ],
      "metadata": {
        "colab": {
          "base_uri": "https://localhost:8080/"
        },
        "id": "1udtHlarn0X2",
        "outputId": "00d271ec-c2a5-4c89-acbb-52f15f075be8"
      },
      "execution_count": 126,
      "outputs": [
        {
          "name": "stdout",
          "output_type": "stream",
          "text": [
            "Enter the number 5\n",
            "4\n",
            "-8\n",
            "2\n",
            "4\n",
            "-6\n",
            "-1\n"
          ]
        },
        {
          "output_type": "execute_result",
          "data": {
            "text/plain": [
              "162"
            ]
          },
          "metadata": {},
          "execution_count": 126
        }
      ]
    },
    {
      "cell_type": "markdown",
      "source": [
        "****\n",
        "**Задание 9**\n",
        "\n",
        "Самое время использовать математику. Вы поднимаетесь по лестнице. Количество ступенек в ней = n.\n",
        "\n",
        "На каждом этапе вы можете переступить либо одну, либо две ступеньки. Как много уникальных способов добраться до верха существует?\n",
        "\n",
        "*1<=n<=45*\n",
        "\n",
        "\n",
        "\n",
        "```\n",
        "Input: n = 2\n",
        "Output: 2\n",
        "Explanation: There are two ways to climb to the top.\n",
        "1. 1 step + 1 step\n",
        "2. 2 steps\n",
        "\n",
        "Input: n = 3\n",
        "Output: 3\n",
        "Explanation: There are three ways to climb to the top.\n",
        "1. 1 step + 1 step + 1 step\n",
        "2. 1 step + 2 steps\n",
        "3. 2 steps + 1 step\n",
        "```\n",
        "\n"
      ],
      "metadata": {
        "id": "bPeSnwt4F73y"
      }
    },
    {
      "cell_type": "code",
      "source": [
        "import itertools\n",
        "#Решение задания 9\n",
        "#Функция, которая выводит число прописью\n",
        "def numerals(number):\n",
        "    from_0_to_14 = ['zero', 'one', 'two', 'three', 'four', 'five', 'six', \n",
        "                    'seven', 'eight', 'nine','ten', 'eleven', 'twelve', \n",
        "                    'thirteen', 'fourteen'\n",
        "                   ]\n",
        "    ten = ['twen', 'thir', 'for', 'fif', 'six', 'seven', 'eigh', 'nine']\n",
        " \n",
        "    if number in range(0, 15):\n",
        "        return (from_0_to_14[number])\n",
        "    dozens, units = divmod(number, 10)\n",
        "    if dozens == 1:\n",
        "        return ten[units - 2] + 'teen'\n",
        "    res = ten[dozens - 2] + 'ty'\n",
        "    if units:\n",
        "        res += '-' + from_0_to_14[units]\n",
        "    return res\n",
        "\n",
        "#Функция для поиска возможных комбинация    \n",
        "def comb_function():\n",
        "    steps = input('Input: ')\n",
        "    n_list = [1, 2]\n",
        "    result_list = []\n",
        "    dict1 = {1: '1 step', 2: '2 steps'}\n",
        "    count = 0\n",
        "    for i in range(int(steps)):\n",
        "        #Ищем все возможные комбинации с повторениями\n",
        "        com_set = itertools.combinations_with_replacement(n_list, i+1)\n",
        "        for j in com_set:\n",
        "            comb = j\n",
        "            if sum(comb) == int(steps):\n",
        "                result_list.append(comb)\n",
        "                count += 1\n",
        "            #Ищем возможные перестановки внутри полученной комбинации    \n",
        "            com_set = itertools.permutations(comb, i+1)\n",
        "            for k in com_set:\n",
        "                comb = k\n",
        "                #Отбираем подходящие перестановки\n",
        "                if (sum(comb) == int(steps)) and (comb not in result_list):\n",
        "                    result_list.append(comb)\n",
        "                    count += 1\n",
        "    print(f'Output: {count}\\nExplanation: There are {numerals(count)} ways to the top.')\n",
        "    for i in range(len(result_list)): #Вывод всех возможных уникальных способов\n",
        "        str_list = ''\n",
        "        for j in range(len(result_list[i])):\n",
        "            if j == len(result_list[i])-1: \n",
        "                str_list = str_list + dict1[result_list[i][j]]\n",
        "            else:\n",
        "                str_list = str_list + dict1[result_list[i][j]] + ' + ' \n",
        "        print(f'{i+1}. {str_list}')\n",
        "    return"
      ],
      "metadata": {
        "id": "HNhjOQZ7GdI5"
      },
      "execution_count": 202,
      "outputs": []
    },
    {
      "cell_type": "code",
      "source": [
        "#Пример 1\n",
        "comb_function()"
      ],
      "metadata": {
        "colab": {
          "base_uri": "https://localhost:8080/"
        },
        "id": "hlNLvasecud9",
        "outputId": "fb70f0fe-61cd-4902-c4a9-523afad95dbb"
      },
      "execution_count": 204,
      "outputs": [
        {
          "output_type": "stream",
          "name": "stdout",
          "text": [
            "Input: 10\n",
            "Output: 89\n",
            "Explanation: There are eighty-nine ways to the top.\n",
            "1. 2 steps + 2 steps + 2 steps + 2 steps + 2 steps\n",
            "2. 1 step + 1 step + 2 steps + 2 steps + 2 steps + 2 steps\n",
            "3. 1 step + 2 steps + 1 step + 2 steps + 2 steps + 2 steps\n",
            "4. 1 step + 2 steps + 2 steps + 1 step + 2 steps + 2 steps\n",
            "5. 1 step + 2 steps + 2 steps + 2 steps + 1 step + 2 steps\n",
            "6. 1 step + 2 steps + 2 steps + 2 steps + 2 steps + 1 step\n",
            "7. 2 steps + 1 step + 1 step + 2 steps + 2 steps + 2 steps\n",
            "8. 2 steps + 1 step + 2 steps + 1 step + 2 steps + 2 steps\n",
            "9. 2 steps + 1 step + 2 steps + 2 steps + 1 step + 2 steps\n",
            "10. 2 steps + 1 step + 2 steps + 2 steps + 2 steps + 1 step\n",
            "11. 2 steps + 2 steps + 1 step + 1 step + 2 steps + 2 steps\n",
            "12. 2 steps + 2 steps + 1 step + 2 steps + 1 step + 2 steps\n",
            "13. 2 steps + 2 steps + 1 step + 2 steps + 2 steps + 1 step\n",
            "14. 2 steps + 2 steps + 2 steps + 1 step + 1 step + 2 steps\n",
            "15. 2 steps + 2 steps + 2 steps + 1 step + 2 steps + 1 step\n",
            "16. 2 steps + 2 steps + 2 steps + 2 steps + 1 step + 1 step\n",
            "17. 1 step + 1 step + 1 step + 1 step + 2 steps + 2 steps + 2 steps\n",
            "18. 1 step + 1 step + 1 step + 2 steps + 1 step + 2 steps + 2 steps\n",
            "19. 1 step + 1 step + 1 step + 2 steps + 2 steps + 1 step + 2 steps\n",
            "20. 1 step + 1 step + 1 step + 2 steps + 2 steps + 2 steps + 1 step\n",
            "21. 1 step + 1 step + 2 steps + 1 step + 1 step + 2 steps + 2 steps\n",
            "22. 1 step + 1 step + 2 steps + 1 step + 2 steps + 1 step + 2 steps\n",
            "23. 1 step + 1 step + 2 steps + 1 step + 2 steps + 2 steps + 1 step\n",
            "24. 1 step + 1 step + 2 steps + 2 steps + 1 step + 1 step + 2 steps\n",
            "25. 1 step + 1 step + 2 steps + 2 steps + 1 step + 2 steps + 1 step\n",
            "26. 1 step + 1 step + 2 steps + 2 steps + 2 steps + 1 step + 1 step\n",
            "27. 1 step + 2 steps + 1 step + 1 step + 1 step + 2 steps + 2 steps\n",
            "28. 1 step + 2 steps + 1 step + 1 step + 2 steps + 1 step + 2 steps\n",
            "29. 1 step + 2 steps + 1 step + 1 step + 2 steps + 2 steps + 1 step\n",
            "30. 1 step + 2 steps + 1 step + 2 steps + 1 step + 1 step + 2 steps\n",
            "31. 1 step + 2 steps + 1 step + 2 steps + 1 step + 2 steps + 1 step\n",
            "32. 1 step + 2 steps + 1 step + 2 steps + 2 steps + 1 step + 1 step\n",
            "33. 1 step + 2 steps + 2 steps + 1 step + 1 step + 1 step + 2 steps\n",
            "34. 1 step + 2 steps + 2 steps + 1 step + 1 step + 2 steps + 1 step\n",
            "35. 1 step + 2 steps + 2 steps + 1 step + 2 steps + 1 step + 1 step\n",
            "36. 1 step + 2 steps + 2 steps + 2 steps + 1 step + 1 step + 1 step\n",
            "37. 2 steps + 1 step + 1 step + 1 step + 1 step + 2 steps + 2 steps\n",
            "38. 2 steps + 1 step + 1 step + 1 step + 2 steps + 1 step + 2 steps\n",
            "39. 2 steps + 1 step + 1 step + 1 step + 2 steps + 2 steps + 1 step\n",
            "40. 2 steps + 1 step + 1 step + 2 steps + 1 step + 1 step + 2 steps\n",
            "41. 2 steps + 1 step + 1 step + 2 steps + 1 step + 2 steps + 1 step\n",
            "42. 2 steps + 1 step + 1 step + 2 steps + 2 steps + 1 step + 1 step\n",
            "43. 2 steps + 1 step + 2 steps + 1 step + 1 step + 1 step + 2 steps\n",
            "44. 2 steps + 1 step + 2 steps + 1 step + 1 step + 2 steps + 1 step\n",
            "45. 2 steps + 1 step + 2 steps + 1 step + 2 steps + 1 step + 1 step\n",
            "46. 2 steps + 1 step + 2 steps + 2 steps + 1 step + 1 step + 1 step\n",
            "47. 2 steps + 2 steps + 1 step + 1 step + 1 step + 1 step + 2 steps\n",
            "48. 2 steps + 2 steps + 1 step + 1 step + 1 step + 2 steps + 1 step\n",
            "49. 2 steps + 2 steps + 1 step + 1 step + 2 steps + 1 step + 1 step\n",
            "50. 2 steps + 2 steps + 1 step + 2 steps + 1 step + 1 step + 1 step\n",
            "51. 2 steps + 2 steps + 2 steps + 1 step + 1 step + 1 step + 1 step\n",
            "52. 1 step + 1 step + 1 step + 1 step + 1 step + 1 step + 2 steps + 2 steps\n",
            "53. 1 step + 1 step + 1 step + 1 step + 1 step + 2 steps + 1 step + 2 steps\n",
            "54. 1 step + 1 step + 1 step + 1 step + 1 step + 2 steps + 2 steps + 1 step\n",
            "55. 1 step + 1 step + 1 step + 1 step + 2 steps + 1 step + 1 step + 2 steps\n",
            "56. 1 step + 1 step + 1 step + 1 step + 2 steps + 1 step + 2 steps + 1 step\n",
            "57. 1 step + 1 step + 1 step + 1 step + 2 steps + 2 steps + 1 step + 1 step\n",
            "58. 1 step + 1 step + 1 step + 2 steps + 1 step + 1 step + 1 step + 2 steps\n",
            "59. 1 step + 1 step + 1 step + 2 steps + 1 step + 1 step + 2 steps + 1 step\n",
            "60. 1 step + 1 step + 1 step + 2 steps + 1 step + 2 steps + 1 step + 1 step\n",
            "61. 1 step + 1 step + 1 step + 2 steps + 2 steps + 1 step + 1 step + 1 step\n",
            "62. 1 step + 1 step + 2 steps + 1 step + 1 step + 1 step + 1 step + 2 steps\n",
            "63. 1 step + 1 step + 2 steps + 1 step + 1 step + 1 step + 2 steps + 1 step\n",
            "64. 1 step + 1 step + 2 steps + 1 step + 1 step + 2 steps + 1 step + 1 step\n",
            "65. 1 step + 1 step + 2 steps + 1 step + 2 steps + 1 step + 1 step + 1 step\n",
            "66. 1 step + 1 step + 2 steps + 2 steps + 1 step + 1 step + 1 step + 1 step\n",
            "67. 1 step + 2 steps + 1 step + 1 step + 1 step + 1 step + 1 step + 2 steps\n",
            "68. 1 step + 2 steps + 1 step + 1 step + 1 step + 1 step + 2 steps + 1 step\n",
            "69. 1 step + 2 steps + 1 step + 1 step + 1 step + 2 steps + 1 step + 1 step\n",
            "70. 1 step + 2 steps + 1 step + 1 step + 2 steps + 1 step + 1 step + 1 step\n",
            "71. 1 step + 2 steps + 1 step + 2 steps + 1 step + 1 step + 1 step + 1 step\n",
            "72. 1 step + 2 steps + 2 steps + 1 step + 1 step + 1 step + 1 step + 1 step\n",
            "73. 2 steps + 1 step + 1 step + 1 step + 1 step + 1 step + 1 step + 2 steps\n",
            "74. 2 steps + 1 step + 1 step + 1 step + 1 step + 1 step + 2 steps + 1 step\n",
            "75. 2 steps + 1 step + 1 step + 1 step + 1 step + 2 steps + 1 step + 1 step\n",
            "76. 2 steps + 1 step + 1 step + 1 step + 2 steps + 1 step + 1 step + 1 step\n",
            "77. 2 steps + 1 step + 1 step + 2 steps + 1 step + 1 step + 1 step + 1 step\n",
            "78. 2 steps + 1 step + 2 steps + 1 step + 1 step + 1 step + 1 step + 1 step\n",
            "79. 2 steps + 2 steps + 1 step + 1 step + 1 step + 1 step + 1 step + 1 step\n",
            "80. 1 step + 1 step + 1 step + 1 step + 1 step + 1 step + 1 step + 1 step + 2 steps\n",
            "81. 1 step + 1 step + 1 step + 1 step + 1 step + 1 step + 1 step + 2 steps + 1 step\n",
            "82. 1 step + 1 step + 1 step + 1 step + 1 step + 1 step + 2 steps + 1 step + 1 step\n",
            "83. 1 step + 1 step + 1 step + 1 step + 1 step + 2 steps + 1 step + 1 step + 1 step\n",
            "84. 1 step + 1 step + 1 step + 1 step + 2 steps + 1 step + 1 step + 1 step + 1 step\n",
            "85. 1 step + 1 step + 1 step + 2 steps + 1 step + 1 step + 1 step + 1 step + 1 step\n",
            "86. 1 step + 1 step + 2 steps + 1 step + 1 step + 1 step + 1 step + 1 step + 1 step\n",
            "87. 1 step + 2 steps + 1 step + 1 step + 1 step + 1 step + 1 step + 1 step + 1 step\n",
            "88. 2 steps + 1 step + 1 step + 1 step + 1 step + 1 step + 1 step + 1 step + 1 step\n",
            "89. 1 step + 1 step + 1 step + 1 step + 1 step + 1 step + 1 step + 1 step + 1 step + 1 step\n"
          ]
        }
      ]
    },
    {
      "cell_type": "markdown",
      "source": [
        "****\n",
        "**Задание 10**\n",
        "\n",
        "Напишите функцию, чтобы найти самый длинный префикс в листе, составленном из строк.\n",
        "\n",
        "Если общего префикса нет - верните пустую строку.\n",
        "\n",
        "\n",
        "\n",
        "```\n",
        "Input 1: strs = [\"flower\",\"flow\",\"flight\"]\n",
        "Output 1: \"fl\"\n",
        "\n",
        "Input 2: strs = [\"dog\",\"racecar\",\"car\"]\n",
        "Output 2: \"\"\n",
        "Explanation: There is no common prefix among the input strings.\n",
        "```\n",
        "\n"
      ],
      "metadata": {
        "id": "T8A0EHJTG03s"
      }
    },
    {
      "cell_type": "code",
      "source": [
        "#Решение задания 10\n",
        "def prefix():\n",
        "    word_list = input('Enter words separated by spaces: ')\n",
        "    word_split = word_list.split()\n",
        "    first_word = word_split[0]\n",
        "    prefix_list = [] #Список для всех найденных префиксов\n",
        "    prefix_min = '' #Префикс минимальной длины\n",
        "    for i in range(1, len(word_split)):\n",
        "        j = 0\n",
        "        prefix_general = ''\n",
        "        N = min(len(first_word), len(word_split[i]))\n",
        "        for j in range(N): #Ищем общий префикс между 1 словом и остальными словами в списке\n",
        "            if first_word[j] == word_split[i][j]:\n",
        "                prefix_general += first_word[j] #Фиксируем префикс\n",
        "            else:\n",
        "              prefix_list.append(prefix_general) #Вносим каждый найденный префикс в список\n",
        "              break\n",
        "    len_min = len(prefix_list[0])\n",
        "    for elem in prefix_list: #Ищем минимальный префикс в листе\n",
        "        if len_min > len(elem):\n",
        "            len_min = len(elem)\n",
        "    for elem in prefix_list: #\"Сокращаем\" все префиксы в списке до длины минимального префикса\n",
        "        elem[:len_min]\n",
        "    first_prefix = prefix_list[0]\n",
        "    count = 0\n",
        "    for elem in prefix_list: #Считаем количество одинаковых префиксов\n",
        "        if first_prefix == elem:\n",
        "            count += 1\n",
        "    if count == len(prefix_list): #Проверяем, равны ли между собой все \"сокращенные\" префиксы\n",
        "        answer = first_prefix\n",
        "    if answer == '':\n",
        "        print('There is no common prefix among the input strings.') \n",
        "    else:\n",
        "        print(f'Output: {answer}')\n",
        "    return\n",
        "        "
      ],
      "metadata": {
        "id": "T-TeO2QoHIMR"
      },
      "execution_count": 325,
      "outputs": []
    },
    {
      "cell_type": "code",
      "source": [
        "#Пример 1\n",
        "prefix()"
      ],
      "metadata": {
        "id": "gaBVonTZ9x91",
        "colab": {
          "base_uri": "https://localhost:8080/"
        },
        "outputId": "785981e6-1bbc-4104-8433-2fc9494d3534"
      },
      "execution_count": 326,
      "outputs": [
        {
          "output_type": "stream",
          "name": "stdout",
          "text": [
            "Enter words separated by spaces: parents pare partner\n",
            "Output: par\n"
          ]
        }
      ]
    },
    {
      "cell_type": "code",
      "source": [
        "#Пример 2\n",
        "prefix()"
      ],
      "metadata": {
        "colab": {
          "base_uri": "https://localhost:8080/"
        },
        "id": "js5gOYF_Imfx",
        "outputId": "548b1f61-6f44-47aa-b4f7-025fde3ed962"
      },
      "execution_count": 327,
      "outputs": [
        {
          "output_type": "stream",
          "name": "stdout",
          "text": [
            "Enter words separated by spaces: dog cat sun\n",
            "There is no common prefix among the input strings.\n"
          ]
        }
      ]
    }
  ]
}